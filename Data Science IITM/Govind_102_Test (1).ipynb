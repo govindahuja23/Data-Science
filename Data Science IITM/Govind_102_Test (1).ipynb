{
 "cells": [
  {
   "cell_type": "code",
   "execution_count": 1,
   "id": "c4847445-92d7-41ce-aebc-845845c2605c",
   "metadata": {},
   "outputs": [],
   "source": [
    "# Q1- What's the main difference between a list and a tuple in Python? Give one example of each\n",
    "# ans: - l1 = [1,2,3,4]| tple2 =(2,3,4,4)\n",
    "       # List is mutable \n",
    "       # List is more prone to security breach\n",
    "       # Tuple is immutable\n",
    "        # Tuple is more secure than List \n",
    "       \n",
    "       "
   ]
  },
  {
   "cell_type": "code",
   "execution_count": 2,
   "id": "311e35ac-f328-4373-9dca-8b465057b6e8",
   "metadata": {},
   "outputs": [],
   "source": [
    "\n",
    "# Ans3 :- python dictionaies store data in key:value pair  #dictionaries are used by DataFrame to store data in tabular format   "
   ]
  },
  {
   "cell_type": "code",
   "execution_count": 5,
   "id": "e5628798-97d1-42ec-aba2-373479c0fd0d",
   "metadata": {},
   "outputs": [
    {
     "name": "stdout",
     "output_type": "stream",
     "text": [
      "1\n",
      "2\n",
      "3\n",
      "4\n",
      "5\n"
     ]
    }
   ],
   "source": [
    "#  Describe what a \n",
    "# for loop does in Python. Write a simple example that prints numbers 1 to 5.\n",
    "for i in range(1,5+1):\n",
    "    print(i)"
   ]
  },
  {
   "cell_type": "code",
   "execution_count": 6,
   "id": "e21995d0-ddcf-4ed8-b55c-6060ce4ff5c5",
   "metadata": {},
   "outputs": [],
   "source": [
    "# ans 5: Exception is unexpected error occured in program and to handle these error we have exception handling \n",
    "         # Exception handling is done through 3 Keywords try, catch finally \n"
   ]
  },
  {
   "cell_type": "code",
   "execution_count": 16,
   "id": "99300c41-6aa4-4998-8b10-fc0fec0bc1c2",
   "metadata": {},
   "outputs": [
    {
     "name": "stdin",
     "output_type": "stream",
     "text": [
      "Enter the number  mj\n"
     ]
    },
    {
     "name": "stdout",
     "output_type": "stream",
     "text": [
      " ! Warning ! -->-->> No given by you us not Int Value  \n",
      "Int check\n"
     ]
    }
   ],
   "source": [
    "try:\n",
    "    n1 = int(input(\"Enter the number \"))\n",
    "    n2 = int(input(\"Enter number second time :\"))\n",
    "except ValueError:\n",
    "    print(\" ! Warning ! -->-->> No given by you us not Int Value  \")\n",
    "finally:\n",
    "    print(\"Int check\")\n",
    "    \n"
   ]
  },
  {
   "cell_type": "code",
   "execution_count": 19,
   "id": "f04b860a-1f28-426e-b64b-e0c763fafbaf",
   "metadata": {},
   "outputs": [],
   "source": [
    "# ANS 6 :- python module \n",
    "# module provide inbluilt and userdefined functions which can help in perfoming differnt tasks like database connectivity and mathematical operations \n",
    "\n",
    "# import math means we are importing all functions present in module \n",
    "# from math import sqrt means we are importing only sqrt function from module\n"
   ]
  },
  {
   "cell_type": "code",
   "execution_count": 21,
   "id": "b73f0cd0-1744-4f13-a7e1-9b78c12e12a9",
   "metadata": {},
   "outputs": [
    {
     "data": {
      "text/plain": [
       "120"
      ]
     },
     "execution_count": 21,
     "metadata": {},
     "output_type": "execute_result"
    }
   ],
   "source": [
    "import math as m\n",
    "m.factorial(5)"
   ]
  },
  {
   "cell_type": "code",
   "execution_count": 25,
   "id": "2d16e1fb-c87c-491b-a216-36e7855d09fe",
   "metadata": {},
   "outputs": [
    {
     "data": {
      "text/plain": [
       "2.23606797749979"
      ]
     },
     "execution_count": 25,
     "metadata": {},
     "output_type": "execute_result"
    }
   ],
   "source": [
    "import math as m\n",
    "from math import sqrt\n",
    "sqrt(5)"
   ]
  },
  {
   "cell_type": "code",
   "execution_count": 27,
   "id": "e64ce4be-c872-4505-9cec-1615a813317c",
   "metadata": {},
   "outputs": [],
   "source": [
    "# ANS 7 :- OOPS is a programming paradigm which include the use of classes and object \n",
    "# there are 4 Pillars in OOPS \n",
    "# Encapsulation\n",
    "# abstaraction\n",
    "# Inheritance\n",
    "# Polymorphism"
   ]
  },
  {
   "cell_type": "code",
   "execution_count": 57,
   "id": "39d0e36b-1b4d-4eb7-94f4-65f7f4f87026",
   "metadata": {},
   "outputs": [],
   "source": [
    "class Student:\n",
    "    def Student_details(self):\n",
    "        std_id = 102\n",
    "        std_name = 'Govind'\n",
    "        std_course = 'BCA'\n",
    "        return std_id,std_course,std_name\n",
    "    "
   ]
  },
  {
   "cell_type": "code",
   "execution_count": 58,
   "id": "6ff057bf-bf31-4656-8a06-5d6c4bf7cd0f",
   "metadata": {},
   "outputs": [],
   "source": [
    "D = Student()"
   ]
  },
  {
   "cell_type": "code",
   "execution_count": 59,
   "id": "b1b3f84e-795e-48c8-a522-13b4a1ea59c7",
   "metadata": {},
   "outputs": [
    {
     "data": {
      "text/plain": [
       "(102, 'BCA', 'Govind')"
      ]
     },
     "execution_count": 59,
     "metadata": {},
     "output_type": "execute_result"
    }
   ],
   "source": [
    "D.Student_details()"
   ]
  },
  {
   "cell_type": "code",
   "execution_count": 63,
   "id": "74033c54-37ca-406c-84a4-fdd10131c195",
   "metadata": {},
   "outputs": [
    {
     "data": {
      "text/plain": [
       "[0, 4, 8, 12, 16]"
      ]
     },
     "execution_count": 63,
     "metadata": {},
     "output_type": "execute_result"
    }
   ],
   "source": [
    "# Q8 \n",
    "List_comp = [i * 2\n",
    "            for i in range(10)\n",
    "            if i % 2 == 0]\n",
    "List_comp"
   ]
  },
  {
   "cell_type": "code",
   "execution_count": 25,
   "id": "ceb3b52c-da51-463c-8628-be0702b578e4",
   "metadata": {},
   "outputs": [],
   "source": [
    "# ANS 9 :- \n",
    "def calculate_area():\n",
    "    radius = float(input(\"Enter the radius of Circle: \"))\n",
    "    area = 3.14 * radius * radius \n",
    "    return area"
   ]
  },
  {
   "cell_type": "code",
   "execution_count": 27,
   "id": "ced0b4f1-8aaa-488f-a630-6f811beeb348",
   "metadata": {},
   "outputs": [
    {
     "name": "stdin",
     "output_type": "stream",
     "text": [
      "Enter the radius of Circle:  4\n"
     ]
    },
    {
     "data": {
      "text/plain": [
       "50.24"
      ]
     },
     "execution_count": 27,
     "metadata": {},
     "output_type": "execute_result"
    }
   ],
   "source": [
    "calculate_area()"
   ]
  },
  {
   "cell_type": "code",
   "execution_count": 31,
   "id": "a0cf8275-cc63-42b8-930b-c02b8f14d471",
   "metadata": {},
   "outputs": [],
   "source": [
    "# Ans10 :- "
   ]
  },
  {
   "cell_type": "code",
   "execution_count": null,
   "id": "6c5cb3b4-87fb-46f6-95f2-e60d6091d99b",
   "metadata": {},
   "outputs": [],
   "source": [
    "name = input(\"Enter your name : \")\n",
    "age = int(input(\"Enter your age: \"))\n",
    "print(f'Hello {name},you are {age} years old!')"
   ]
  },
  {
   "cell_type": "code",
   "execution_count": 66,
   "id": "977f317b-4e73-4305-9718-3fdb90cb2006",
   "metadata": {},
   "outputs": [
    {
     "name": "stdout",
     "output_type": "stream",
     "text": [
      "0 Apple\n",
      "1 Orange\n",
      "2 Mango\n",
      "3 Guava\n"
     ]
    }
   ],
   "source": [
    "# ANS 11\n",
    "fruits = ['Apple','Orange','Mango','Guava']\n",
    "for i,j in enumerate(fruits):\n",
    "    print(f'{i} {j}')"
   ]
  },
  {
   "cell_type": "code",
   "execution_count": 21,
   "id": "d26e02be-b15d-4fea-900f-47e28761797e",
   "metadata": {},
   "outputs": [
    {
     "name": "stdin",
     "output_type": "stream",
     "text": [
      "Enter a number between 1 and 100:  55\n"
     ]
    },
    {
     "name": "stdout",
     "output_type": "stream",
     "text": [
      "You got F grade.\n"
     ]
    }
   ],
   "source": [
    "# ANS 12\n",
    "\n",
    "# 90-100: A\n",
    "#  80-89: B\n",
    "#  70-79: C\n",
    "def grade_calculator():\n",
    "    try:\n",
    "        student_score = int(input(\"Enter a number between 1 and 100: \"))\n",
    "        \n",
    "        if student_score > 100 or student_score < 1:\n",
    "            print(\"Please enter a value between 1 and 100.\")\n",
    "        elif student_score > 90:\n",
    "            print(\"Congrats! You got A grade.\")\n",
    "        elif 80 < student_score <= 90:\n",
    "            print(\"You got B grade.\")\n",
    "        elif 70 < student_score <= 80:\n",
    "            print(\"You got C grade.\")\n",
    "        elif 60 < student_score <= 70:\n",
    "            print(\"You got D grade.\")\n",
    "        else:\n",
    "            print(\"You got F grade.\")\n",
    "    \n",
    "    except ValueError:\n",
    "        print(\"Enter a valid number.\")\n",
    "\n",
    "grade_calculator()\n",
    "\n",
    "         \n",
    "    "
   ]
  },
  {
   "cell_type": "code",
   "execution_count": null,
   "id": "69c5d969-aadc-4221-887e-3546ec482d4e",
   "metadata": {},
   "outputs": [],
   "source": []
  }
 ],
 "metadata": {
  "kernelspec": {
   "display_name": "Python 3 (ipykernel)",
   "language": "python",
   "name": "python3"
  },
  "language_info": {
   "codemirror_mode": {
    "name": "ipython",
    "version": 3
   },
   "file_extension": ".py",
   "mimetype": "text/x-python",
   "name": "python",
   "nbconvert_exporter": "python",
   "pygments_lexer": "ipython3",
   "version": "3.13.5"
  }
 },
 "nbformat": 4,
 "nbformat_minor": 5
}
