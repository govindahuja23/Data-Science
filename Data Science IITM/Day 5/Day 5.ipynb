{
 "cells": [
  {
   "cell_type": "code",
   "execution_count": 3,
   "id": "dd28de04-0c90-41e2-97a1-f9001359e308",
   "metadata": {},
   "outputs": [
    {
     "name": "stdout",
     "output_type": "stream",
     "text": [
      "Note: you may need to restart the kernel to use updated packages.\n"
     ]
    },
    {
     "name": "stderr",
     "output_type": "stream",
     "text": [
      "  WARNING: Retrying (Retry(total=4, connect=None, read=None, redirect=None, status=None)) after connection broken by 'NewConnectionError('<pip._vendor.urllib3.connection.HTTPSConnection object at 0x00000190A3783750>: Failed to establish a new connection: [Errno 11001] getaddrinfo failed')': /packages/0c/94/e4181a1f6286f545507528c78016e00065ea913276888db2262507693ce5/PyMySQL-1.1.1-py3-none-any.whl.metadata\n",
      "\n",
      "[notice] A new release of pip is available: 25.0.1 -> 25.1.1\n",
      "[notice] To update, run: python.exe -m pip install --upgrade pip\n"
     ]
    },
    {
     "name": "stdout",
     "output_type": "stream",
     "text": [
      "Defaulting to user installation because normal site-packages is not writeable\n",
      "Collecting PyMySQL\n",
      "  Downloading PyMySQL-1.1.1-py3-none-any.whl.metadata (4.4 kB)\n",
      "Downloading PyMySQL-1.1.1-py3-none-any.whl (44 kB)\n",
      "Installing collected packages: PyMySQL\n",
      "Successfully installed PyMySQL-1.1.1\n"
     ]
    }
   ],
   "source": [
    "pip install PyMySQL"
   ]
  },
  {
   "cell_type": "code",
   "execution_count": 4,
   "id": "df22d334-1fc6-4bca-b4b5-bc49343560ea",
   "metadata": {},
   "outputs": [
    {
     "name": "stdout",
     "output_type": "stream",
     "text": [
      "done\n"
     ]
    }
   ],
   "source": [
    "import pymysql as py\n",
    "print(\"done\")"
   ]
  },
  {
   "cell_type": "code",
   "execution_count": 14,
   "id": "401b271c-6c5e-47c9-9969-b9d9e252218c",
   "metadata": {},
   "outputs": [
    {
     "name": "stdout",
     "output_type": "stream",
     "text": [
      "Connect hai !!!!\n"
     ]
    }
   ],
   "source": [
    "con = py.connect(user = \"root\",\n",
    "           password = \"Govind@0211\",\n",
    "           host = \"LocalHost\",\n",
    "           autocommit = True)\n",
    "print(\"Connect hai !!!!\")"
   ]
  },
  {
   "cell_type": "code",
   "execution_count": 6,
   "id": "fb2e79f7-7785-40d0-8c80-64614974e0b0",
   "metadata": {},
   "outputs": [
    {
     "name": "stdout",
     "output_type": "stream",
     "text": [
      "Done\n"
     ]
    }
   ],
   "source": [
    "cur = con.cursor()\n",
    "print(\"Done\")"
   ]
  },
  {
   "cell_type": "code",
   "execution_count": 17,
   "id": "74abe942-3083-4d03-b19d-a9745986b182",
   "metadata": {},
   "outputs": [
    {
     "name": "stdout",
     "output_type": "stream",
     "text": [
      "(101, 'Mohan sharma', 'BCA', 'Delhi janakpuri', 51555.0)\n",
      "(102, 'Navi verma ', 'MCA', 'South africa', 5555.0)\n"
     ]
    }
   ],
   "source": [
    "# q = '''select * from bca1'''\n",
    "# cur.execute(q)\n",
    "# for i in cur:\n",
    "#     print(i)"
   ]
  },
  {
   "cell_type": "code",
   "execution_count": 19,
   "id": "7e0e8ce7-87b6-4c4d-af81-694cacf09201",
   "metadata": {},
   "outputs": [
    {
     "name": "stdin",
     "output_type": "stream",
     "text": [
      "Enter Roll no:  103\n",
      "Enter your Name:  Govind\n",
      "Enter your Course Name:  BCA\n",
      "Enter Your Address:  Manak Pura\n",
      "Enter your Scholarship Amount:  3000\n"
     ]
    },
    {
     "data": {
      "text/plain": [
       "1"
      ]
     },
     "execution_count": 19,
     "metadata": {},
     "output_type": "execute_result"
    }
   ],
   "source": [
    "\n",
    "# sid = int(input(\"Enter Roll no: \"))\n",
    "# name = input(\"Enter your Name: \")\n",
    "# course = input(\"Enter your Course Name: \")\n",
    "# address = input(\"Enter Your Address: \")\n",
    "# scolorship = input(\"Enter your Scholarship Amount: \")\n",
    "# q = f'''insert into bca1 values({sid},'{name}','{course}','{address}',{scolorship})'''\n",
    "# cur.execute(q)\n"
   ]
  },
  {
   "cell_type": "code",
   "execution_count": null,
   "id": "c11b876c-4328-477d-9f97-0414e602af01",
   "metadata": {},
   "outputs": [],
   "source": [
    "n = 3\n",
    "for i in range(n):\n",
    "    sid = int(input(\"Enter Roll no: \"))\n",
    "#     name = input(\"Enter your Name: \")\n",
    "#     course = input(\"Enter your Course Name: \")\n",
    "#     address = input(\"Enter Your Address: \")\n",
    "#     scolorship = input(\"Enter your Scholarship Amount: \")\n",
    "#     q = f'''insert into bca1 values({sid},'{name}','{course}','{address}',{scolorship})'''\n",
    "\n",
    "# cur.execute(q)"
   ]
  },
  {
   "cell_type": "code",
   "execution_count": 30,
   "id": "afe3fcb7-cfd4-4431-86c6-c7e7725f9e54",
   "metadata": {},
   "outputs": [
    {
     "data": {
      "text/html": [
       "<div>\n",
       "<style scoped>\n",
       "    .dataframe tbody tr th:only-of-type {\n",
       "        vertical-align: middle;\n",
       "    }\n",
       "\n",
       "    .dataframe tbody tr th {\n",
       "        vertical-align: top;\n",
       "    }\n",
       "\n",
       "    .dataframe thead th {\n",
       "        text-align: right;\n",
       "    }\n",
       "</style>\n",
       "<table border=\"1\" class=\"dataframe\">\n",
       "  <thead>\n",
       "    <tr style=\"text-align: right;\">\n",
       "      <th></th>\n",
       "      <th>0</th>\n",
       "      <th>1</th>\n",
       "      <th>2</th>\n",
       "      <th>3</th>\n",
       "      <th>4</th>\n",
       "    </tr>\n",
       "  </thead>\n",
       "  <tbody>\n",
       "    <tr>\n",
       "      <th>0</th>\n",
       "      <td>101</td>\n",
       "      <td>Mohan sharma</td>\n",
       "      <td>BCA</td>\n",
       "      <td>Delhi janakpuri</td>\n",
       "      <td>51555.0</td>\n",
       "    </tr>\n",
       "    <tr>\n",
       "      <th>1</th>\n",
       "      <td>102</td>\n",
       "      <td>Navi verma</td>\n",
       "      <td>MCA</td>\n",
       "      <td>South africa</td>\n",
       "      <td>5555.0</td>\n",
       "    </tr>\n",
       "    <tr>\n",
       "      <th>2</th>\n",
       "      <td>103</td>\n",
       "      <td>Govind</td>\n",
       "      <td>BCA</td>\n",
       "      <td>Manak Pura</td>\n",
       "      <td>3000.0</td>\n",
       "    </tr>\n",
       "  </tbody>\n",
       "</table>\n",
       "</div>"
      ],
      "text/plain": [
       "     0             1    2                3        4\n",
       "0  101  Mohan sharma  BCA  Delhi janakpuri  51555.0\n",
       "1  102   Navi verma   MCA     South africa   5555.0\n",
       "2  103        Govind  BCA       Manak Pura   3000.0"
      ]
     },
     "execution_count": 30,
     "metadata": {},
     "output_type": "execute_result"
    }
   ],
   "source": [
    "q = '''select * from bca1'''\n",
    "cur.execute(q)\n",
    "\n",
    "rec = cur.fetchall()\n",
    "import pandas as pd \n",
    "pd.DataFrame(rec)"
   ]
  },
  {
   "cell_type": "code",
   "execution_count": 33,
   "id": "bdc2ba48-d3ba-4368-83d0-d2233dc9ab72",
   "metadata": {},
   "outputs": [
    {
     "data": {
      "text/html": [
       "<div>\n",
       "<style scoped>\n",
       "    .dataframe tbody tr th:only-of-type {\n",
       "        vertical-align: middle;\n",
       "    }\n",
       "\n",
       "    .dataframe tbody tr th {\n",
       "        vertical-align: top;\n",
       "    }\n",
       "\n",
       "    .dataframe thead th {\n",
       "        text-align: right;\n",
       "    }\n",
       "</style>\n",
       "<table border=\"1\" class=\"dataframe\">\n",
       "  <thead>\n",
       "    <tr style=\"text-align: right;\">\n",
       "      <th></th>\n",
       "      <th>SID</th>\n",
       "      <th>Student_Name</th>\n",
       "      <th>Course</th>\n",
       "      <th>Address</th>\n",
       "      <th>Scholorships</th>\n",
       "    </tr>\n",
       "  </thead>\n",
       "  <tbody>\n",
       "    <tr>\n",
       "      <th>0</th>\n",
       "      <td>101</td>\n",
       "      <td>Mohan sharma</td>\n",
       "      <td>BCA</td>\n",
       "      <td>Delhi janakpuri</td>\n",
       "      <td>51555.0</td>\n",
       "    </tr>\n",
       "    <tr>\n",
       "      <th>1</th>\n",
       "      <td>102</td>\n",
       "      <td>Navi verma</td>\n",
       "      <td>MCA</td>\n",
       "      <td>South africa</td>\n",
       "      <td>5555.0</td>\n",
       "    </tr>\n",
       "    <tr>\n",
       "      <th>2</th>\n",
       "      <td>103</td>\n",
       "      <td>Govind</td>\n",
       "      <td>BCA</td>\n",
       "      <td>Manak Pura</td>\n",
       "      <td>3000.0</td>\n",
       "    </tr>\n",
       "  </tbody>\n",
       "</table>\n",
       "</div>"
      ],
      "text/plain": [
       "   SID  Student_Name Course          Address  Scholorships\n",
       "0  101  Mohan sharma    BCA  Delhi janakpuri       51555.0\n",
       "1  102   Navi verma     MCA     South africa        5555.0\n",
       "2  103        Govind    BCA       Manak Pura        3000.0"
      ]
     },
     "execution_count": 33,
     "metadata": {},
     "output_type": "execute_result"
    }
   ],
   "source": [
    "all_records = []\n",
    "for i in cur.description:\n",
    "    all_records.append(i[0])\n",
    "\n",
    "import pandas as pd \n",
    "pd.DataFrame(rec,columns=all_records)"
   ]
  },
  {
   "cell_type": "code",
   "execution_count": 1,
   "id": "fcb33ad9-9bed-4251-a635-1c538fcb11e6",
   "metadata": {},
   "outputs": [
    {
     "ename": "SyntaxError",
     "evalue": "invalid non-printable character U+00A0 (538566166.py, line 14)",
     "output_type": "error",
     "traceback": [
      "\u001b[1;36m  Cell \u001b[1;32mIn[1], line 14\u001b[1;36m\u001b[0m\n\u001b[1;33m    return df\u001b[0m\n\u001b[1;37m    ^\u001b[0m\n\u001b[1;31mSyntaxError\u001b[0m\u001b[1;31m:\u001b[0m invalid non-printable character U+00A0\n"
     ]
    }
   ],
   "source": [
    "def show_record(db,table):\n",
    "    query = f'''select * from {db}.{table};'''\n",
    "    cur.execute(query)\n",
    "    \n",
    "    rec = cur.fetchall()\n",
    "    \n",
    "    all_columns = []\n",
    "    \n",
    "    for i in  cur.description:\n",
    "        all_columns.append(i[0])\n",
    "    \n",
    "    import pandas as pd\n",
    "    df=pd.DataFrame(rec,columns=all_columns)\n",
    "    return df"
   ]
  },
  {
   "cell_type": "code",
   "execution_count": null,
   "id": "61286643-a133-49b1-a7ba-31772c264853",
   "metadata": {},
   "outputs": [],
   "source": []
  }
 ],
 "metadata": {
  "kernelspec": {
   "display_name": "Python 3 (ipykernel)",
   "language": "python",
   "name": "python3"
  },
  "language_info": {
   "codemirror_mode": {
    "name": "ipython",
    "version": 3
   },
   "file_extension": ".py",
   "mimetype": "text/x-python",
   "name": "python",
   "nbconvert_exporter": "python",
   "pygments_lexer": "ipython3",
   "version": "3.13.5"
  }
 },
 "nbformat": 4,
 "nbformat_minor": 5
}
