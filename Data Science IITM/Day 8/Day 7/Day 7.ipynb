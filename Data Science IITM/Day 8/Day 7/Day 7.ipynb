{
 "cells": [
  {
   "cell_type": "code",
   "execution_count": 26,
   "id": "c5f0cb09-3e41-4b0f-a74a-8d1e00697dc6",
   "metadata": {},
   "outputs": [],
   "source": [
    "# Inheritance\n",
    "\n",
    "class BMW:\n",
    "    \n",
    "    def super_turbo_engine():\n",
    "        print('Super fast engine ')\n",
    "        \n",
    "class Audi(BMW):\n",
    "    def auto_pilot():\n",
    "        print('Self driving car ')\n",
    "    \n"
   ]
  },
  {
   "cell_type": "code",
   "execution_count": 24,
   "id": "5d15f0da-b347-4e80-bc81-50de39d2791c",
   "metadata": {},
   "outputs": [],
   "source": [
    "audi_r1 = Audi"
   ]
  },
  {
   "cell_type": "code",
   "execution_count": 25,
   "id": "38c46018-0007-4f70-9375-0c0db9a8e308",
   "metadata": {},
   "outputs": [
    {
     "name": "stdout",
     "output_type": "stream",
     "text": [
      "Super fast engine \n"
     ]
    }
   ],
   "source": [
    "# audi_r1.super_turbo_engine()"
   ]
  },
  {
   "cell_type": "code",
   "execution_count": 41,
   "id": "fad3b624-5d08-4941-98de-c119218604fd",
   "metadata": {},
   "outputs": [],
   "source": [
    "\n",
    "class Daily_object:\n",
    "    \n",
    "    def phone_case(self):\n",
    "        print('Karol bagh Gaffar market')\n",
    "\n",
    "class JBL:\n",
    "    def speaker_2(self):\n",
    "        print('JBL speaker')\n",
    "\n",
    "class Processor:\n",
    "    def Nvidia_GraphicsCard():\n",
    "        print('RTX 4090 8GB')\n",
    "\n",
    "class Battery:\n",
    "    def Battery_health(self):\n",
    "        print('7000 Mah battery')\n",
    "\n",
    "class Display:\n",
    "    def Display_Details(self):\n",
    "        print('Amoled display ')\n",
    "\n",
    "class Company_Name():\n",
    "    def Oneplus_Nord_Ce_3_5g(self):\n",
    "        print('Phone Created !!!')\n",
    "\n",
    "class MOBILE(JBL,Battery,Display):\n",
    "    def __init__(self):\n",
    "        print(\"Phone bngaya\")\n",
    "        pass"
   ]
  },
  {
   "cell_type": "code",
   "execution_count": 39,
   "id": "b296629b-8449-4500-8009-e9935c722ddc",
   "metadata": {},
   "outputs": [],
   "source": [
    "Nothin = MOBILE()"
   ]
  },
  {
   "cell_type": "code",
   "execution_count": 40,
   "id": "f36250af-d67a-4f3b-a150-c1f7921a4c94",
   "metadata": {},
   "outputs": [
    {
     "name": "stdout",
     "output_type": "stream",
     "text": [
      "JBL speaker\n"
     ]
    }
   ],
   "source": [
    "# Nothin.speaker_2()"
   ]
  },
  {
   "cell_type": "code",
   "execution_count": 54,
   "id": "998c3652-b540-4ce0-a231-440b3dbb3271",
   "metadata": {},
   "outputs": [],
   "source": [
    "class GrandFather:\n",
    "    def land_PROPERTY(self):\n",
    "        print(\"land property, Kya hota hai paisa ka paise ki lga du dheri\")\n",
    "        \n",
    "class Father(GrandFather):\n",
    "    def bank_balance(self):\n",
    "        print(\"Millionare\")\n",
    "        \n",
    "class Son(Father):\n",
    "    def political_power(self):\n",
    "        print(\"BJP\")\n",
    "\n",
    "class GrandSon(Son):\n",
    "    def mind(self):\n",
    "        print(\"Ias Yas bno desh ka naam  raushan kro \")\n",
    "\n",
    "class Friend(GrandSon):\n",
    "    def __init__(self):\n",
    "        print(\"Yaar Yaar Yaar saare bnde hi zaruri hai \")\n",
    "\n",
    "        "
   ]
  },
  {
   "cell_type": "code",
   "execution_count": 55,
   "id": "7dff29ca-995e-45de-93bb-56ebfa9eb1ff",
   "metadata": {},
   "outputs": [
    {
     "name": "stdout",
     "output_type": "stream",
     "text": [
      "Yaar Yaar Yaar saare bnde hi zaruri hai \n"
     ]
    }
   ],
   "source": [
    "YJKD = Friend()"
   ]
  },
  {
   "cell_type": "code",
   "execution_count": 56,
   "id": "023fe881-8ede-4a4c-8d06-bcb9b53f812c",
   "metadata": {},
   "outputs": [
    {
     "name": "stdout",
     "output_type": "stream",
     "text": [
      "land property, Kya hota hai paisa ka paise ki lga du dheri\n"
     ]
    }
   ],
   "source": [
    "# YJKD.land_PROPERTY()"
   ]
  },
  {
   "cell_type": "code",
   "execution_count": 57,
   "id": "235b4bdc-7347-4216-9cea-888ab2f0d870",
   "metadata": {},
   "outputs": [
    {
     "name": "stdout",
     "output_type": "stream",
     "text": [
      "Millionare\n"
     ]
    }
   ],
   "source": [
    "# YJKD.bank_balance()"
   ]
  },
  {
   "cell_type": "code",
   "execution_count": 65,
   "id": "29f6ba2e-e6bb-46f0-879e-cc9583d83eae",
   "metadata": {},
   "outputs": [],
   "source": [
    "class Hybrid_class(MOBILE,Friend):\n",
    "    def __init__(self):\n",
    "        print(\" Hybrid \")\n",
    "    def info(self):\n",
    "        print(\"RKB\")"
   ]
  },
  {
   "cell_type": "code",
   "execution_count": 66,
   "id": "c1a78107-1c6d-4f63-adb6-190d6a2c4b48",
   "metadata": {},
   "outputs": [
    {
     "name": "stdout",
     "output_type": "stream",
     "text": [
      " Hybrid \n"
     ]
    }
   ],
   "source": [
    "Shinchan = Hybrid_class()"
   ]
  },
  {
   "cell_type": "code",
   "execution_count": 67,
   "id": "8a2c8d18-5aa5-4eb5-a728-ec3fe6b92433",
   "metadata": {},
   "outputs": [
    {
     "name": "stdout",
     "output_type": "stream",
     "text": [
      "Amoled display \n"
     ]
    }
   ],
   "source": [
    "# Shinchan.Display_Details()"
   ]
  },
  {
   "cell_type": "code",
   "execution_count": 68,
   "id": "2336fd2b-0ad1-4065-8035-4c67f67b085d",
   "metadata": {},
   "outputs": [
    {
     "name": "stdout",
     "output_type": "stream",
     "text": [
      "BJP\n"
     ]
    }
   ],
   "source": [
    "# Shinchan.political_power()"
   ]
  },
  {
   "cell_type": "code",
   "execution_count": 69,
   "id": "cbfc6aa9-1231-41f3-a37e-cd02cd10bb8d",
   "metadata": {},
   "outputs": [],
   "source": [
    "#Polymorphism"
   ]
  },
  {
   "cell_type": "code",
   "execution_count": 70,
   "id": "3fb68d3e-733d-45f6-ab90-fa354ceced5e",
   "metadata": {},
   "outputs": [
    {
     "data": {
      "text/plain": [
       "3"
      ]
     },
     "execution_count": 70,
     "metadata": {},
     "output_type": "execute_result"
    }
   ],
   "source": [
    " a = 777\n",
    "len(str(a))"
   ]
  },
  {
   "cell_type": "code",
   "execution_count": 71,
   "id": "8f89f083-79ef-4eb3-9239-e86ae6fd9590",
   "metadata": {},
   "outputs": [],
   "source": [
    "class IITM:\n",
    "\n",
    "  def intro(self,name = None,address = None):\n",
    "    if (name == None) and (address == None):\n",
    "      print('Hello Candidates!!')\n",
    "\n",
    "    elif name != None and (address == None):\n",
    "      print(f'Hello {name},how are you??')\n",
    "\n",
    "    elif (name != None) and  (address != None):\n",
    "      print(f'Hello {name},how are you??')\n",
    "      print(f'Your Address is {address}')\n",
    "\n",
    "    else:\n",
    "      print('Hello Buddy!!')"
   ]
  },
  {
   "cell_type": "code",
   "execution_count": 72,
   "id": "4fce2a75-9ba4-4f80-a19e-4f6a20f36e30",
   "metadata": {},
   "outputs": [],
   "source": [
    "j = IITM()"
   ]
  },
  {
   "cell_type": "code",
   "execution_count": 77,
   "id": "19f48ab4-30e8-4fc8-8798-09067a23d97a",
   "metadata": {},
   "outputs": [
    {
     "name": "stdout",
     "output_type": "stream",
     "text": [
      "Hello Buddy!!\n"
     ]
    }
   ],
   "source": [
    "j.intro(address = \"Karol bagh \")"
   ]
  },
  {
   "cell_type": "code",
   "execution_count": 80,
   "id": "133650e8-7e9b-4c12-aabf-ae6e0b6adadd",
   "metadata": {},
   "outputs": [],
   "source": [
    "from abc import ABC, abstractmethod\n",
    "\n",
    "class Website(ABC):\n",
    "\n",
    "  @abstractmethod\n",
    "  def login(self):\n",
    "    print('This is a Login method')\n",
    "\n",
    "  @abstractmethod\n",
    "  def logout(self):\n",
    "    print('A logout method')\n",
    "\n"
   ]
  },
  {
   "cell_type": "code",
   "execution_count": 81,
   "id": "db43aeeb-e1c6-41a6-a20c-d48622b838dd",
   "metadata": {},
   "outputs": [
    {
     "ename": "NameError",
     "evalue": "name 'd' is not defined",
     "output_type": "error",
     "traceback": [
      "\u001b[1;31m---------------------------------------------------------------------------\u001b[0m",
      "\u001b[1;31mNameError\u001b[0m                                 Traceback (most recent call last)",
      "Cell \u001b[1;32mIn[81], line 1\u001b[0m\n\u001b[1;32m----> 1\u001b[0m d\u001b[38;5;241m.\u001b[39mlogin()\n",
      "\u001b[1;31mNameError\u001b[0m: name 'd' is not defined"
     ]
    }
   ],
   "source": []
  },
  {
   "cell_type": "code",
   "execution_count": null,
   "id": "f2a23e40-9a42-4b80-a368-890f47750163",
   "metadata": {},
   "outputs": [],
   "source": []
  }
 ],
 "metadata": {
  "kernelspec": {
   "display_name": "Python 3 (ipykernel)",
   "language": "python",
   "name": "python3"
  },
  "language_info": {
   "codemirror_mode": {
    "name": "ipython",
    "version": 3
   },
   "file_extension": ".py",
   "mimetype": "text/x-python",
   "name": "python",
   "nbconvert_exporter": "python",
   "pygments_lexer": "ipython3",
   "version": "3.13.5"
  }
 },
 "nbformat": 4,
 "nbformat_minor": 5
}
